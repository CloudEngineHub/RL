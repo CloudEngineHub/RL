{
 "cells": [
  {
   "cell_type": "code",
   "execution_count": 6,
   "id": "c4903edc-8135-497b-ab09-22585f551625",
   "metadata": {},
   "outputs": [
    {
     "name": "stdout",
     "output_type": "stream",
     "text": [
      "Collecting matplotlib\n",
      "  Downloading matplotlib-3.10.3-cp310-cp310-manylinux_2_17_x86_64.manylinux2014_x86_64.whl (8.6 MB)\n",
      "\u001b[2K     \u001b[38;2;114;156;31m━━━━━━━━━━━━━━━━━━━━━━━━━━━━━━━━━━━━━━━━\u001b[0m \u001b[32m8.6/8.6 MB\u001b[0m \u001b[31m20.9 MB/s\u001b[0m eta \u001b[36m0:00:00\u001b[0mm eta \u001b[36m0:00:01\u001b[0m0:01\u001b[0m02\u001b[0m\n",
      "\u001b[?25hRequirement already satisfied: numpy>=1.23 in /lustre/fsw/portfolios/coreai/users/nailon/projects/NeMo-RL/venvs/jupyter/lib/python3.10/site-packages (from matplotlib) (2.2.6)\n",
      "Requirement already satisfied: python-dateutil>=2.7 in /lustre/fsw/portfolios/coreai/users/nailon/projects/NeMo-RL/venvs/jupyter/lib/python3.10/site-packages (from matplotlib) (2.9.0.post0)\n",
      "Requirement already satisfied: packaging>=20.0 in /lustre/fsw/portfolios/coreai/users/nailon/projects/NeMo-RL/venvs/jupyter/lib/python3.10/site-packages (from matplotlib) (25.0)\n",
      "Collecting pyparsing>=2.3.1\n",
      "  Downloading pyparsing-3.2.3-py3-none-any.whl (111 kB)\n",
      "\u001b[2K     \u001b[38;2;114;156;31m━━━━━━━━━━━━━━━━━━━━━━━━━━━━━━━━━━━━━━\u001b[0m \u001b[32m111.1/111.1 KB\u001b[0m \u001b[31m11.9 MB/s\u001b[0m eta \u001b[36m0:00:00\u001b[0m\n",
      "\u001b[?25hCollecting fonttools>=4.22.0\n",
      "  Downloading fonttools-4.58.0-cp310-cp310-manylinux_2_17_x86_64.manylinux2014_x86_64.whl (4.7 MB)\n",
      "\u001b[2K     \u001b[38;2;114;156;31m━━━━━━━━━━━━━━━━━━━━━━━━━━━━━━━━━━━━━━━━\u001b[0m \u001b[32m4.7/4.7 MB\u001b[0m \u001b[31m115.2 MB/s\u001b[0m eta \u001b[36m0:00:00\u001b[0mm eta \u001b[36m0:00:01\u001b[0m\n",
      "\u001b[?25hCollecting pillow>=8\n",
      "  Downloading pillow-11.2.1-cp310-cp310-manylinux_2_28_x86_64.whl (4.6 MB)\n",
      "\u001b[2K     \u001b[38;2;114;156;31m━━━━━━━━━━━━━━━━━━━━━━━━━━━━━━━━━━━━━━━━\u001b[0m \u001b[32m4.6/4.6 MB\u001b[0m \u001b[31m124.4 MB/s\u001b[0m eta \u001b[36m0:00:00\u001b[0mm eta \u001b[36m0:00:01\u001b[0m\n",
      "\u001b[?25hCollecting contourpy>=1.0.1\n",
      "  Downloading contourpy-1.3.2-cp310-cp310-manylinux_2_17_x86_64.manylinux2014_x86_64.whl (325 kB)\n",
      "\u001b[2K     \u001b[38;2;114;156;31m━━━━━━━━━━━━━━━━━━━━━━━━━━━━━━━━━━━━━━\u001b[0m \u001b[32m325.0/325.0 KB\u001b[0m \u001b[31m31.9 MB/s\u001b[0m eta \u001b[36m0:00:00\u001b[0m\n",
      "\u001b[?25hCollecting cycler>=0.10\n",
      "  Downloading cycler-0.12.1-py3-none-any.whl (8.3 kB)\n",
      "Collecting kiwisolver>=1.3.1\n",
      "  Downloading kiwisolver-1.4.8-cp310-cp310-manylinux_2_12_x86_64.manylinux2010_x86_64.whl (1.6 MB)\n",
      "\u001b[2K     \u001b[38;2;114;156;31m━━━━━━━━━━━━━━━━━━━━━━━━━━━━━━━━━━━━━━━━\u001b[0m \u001b[32m1.6/1.6 MB\u001b[0m \u001b[31m92.9 MB/s\u001b[0m eta \u001b[36m0:00:00\u001b[0m\n",
      "\u001b[?25hRequirement already satisfied: six>=1.5 in /lustre/fsw/portfolios/coreai/users/nailon/projects/NeMo-RL/venvs/jupyter/lib/python3.10/site-packages (from python-dateutil>=2.7->matplotlib) (1.17.0)\n",
      "Installing collected packages: pyparsing, pillow, kiwisolver, fonttools, cycler, contourpy, matplotlib\n",
      "Successfully installed contourpy-1.3.2 cycler-0.12.1 fonttools-4.58.0 kiwisolver-1.4.8 matplotlib-3.10.3 pillow-11.2.1 pyparsing-3.2.3\n"
     ]
    }
   ],
   "source": [
    "!pip install matplotlib"
   ]
  },
  {
   "cell_type": "code",
   "execution_count": 1,
   "id": "5f2013f1-ea52-43a0-a1f0-bb5e76b33884",
   "metadata": {},
   "outputs": [],
   "source": [
    "import json\n",
    "import numpy as np\n",
    "import matplotlib.pyplot as plt"
   ]
  },
  {
   "cell_type": "code",
   "execution_count": 2,
   "id": "e8799f5e-7774-41ce-8f6e-5e3216124c5a",
   "metadata": {},
   "outputs": [],
   "source": [
    "f = open(\"../nano_deepscaler_L1_data_context_20000.jsonl\", \"r\")\n",
    "lines = [json.loads(line) for line in f.readlines()]\n",
    "f.close()"
   ]
  },
  {
   "cell_type": "code",
   "execution_count": 3,
   "id": "eb61aedb-ac01-4cc2-8889-b36c19362896",
   "metadata": {},
   "outputs": [],
   "source": [
    "lengths = [line[\"response_length\"] for line in lines]"
   ]
  },
  {
   "cell_type": "code",
   "execution_count": 4,
   "id": "569eb947-a7be-4146-8606-e5df4d81f3f0",
   "metadata": {},
   "outputs": [
    {
     "data": {
      "text/plain": [
       "(array([   8.,   63.,  217.,  589., 1014., 1170., 1253., 1228., 1152.,\n",
       "        1058., 1072., 1057., 1020., 1036., 1012., 1007.,  969.,  929.,\n",
       "         957.,  873.,  815.,  862.,  800.,  730.,  719.,  687.,  674.,\n",
       "         625.,  581.,  620.,  480.,  519.,  496.,  488.,  475.,  476.,\n",
       "         430.,  423.,  410.,  371.,  368.,  342.,  301.,  288.,  265.,\n",
       "         281.,  253.,  257.,  240.,  209.,  246.,  204.,  242.,  201.,\n",
       "         213.,  226.,  204.,  196.,  175.,  167.,  165.,  191.,  203.,\n",
       "         175.,  196.,  151.,  133.,  152.,  166.,  151.,  143.,  138.,\n",
       "         124.,  158.,  137.,  149.,  169.,  130.,  139.,  129.,  147.,\n",
       "         117.,  141.,  131.,  125.,  107.,  120.,  104.,  110.,   89.,\n",
       "          94.,   81.,   76.,   82.,   63.,   65.,   59.,   64.,   81.,\n",
       "         738.]),\n",
       " array([  219.  ,   416.49,   613.98,   811.47,  1008.96,  1206.45,\n",
       "         1403.94,  1601.43,  1798.92,  1996.41,  2193.9 ,  2391.39,\n",
       "         2588.88,  2786.37,  2983.86,  3181.35,  3378.84,  3576.33,\n",
       "         3773.82,  3971.31,  4168.8 ,  4366.29,  4563.78,  4761.27,\n",
       "         4958.76,  5156.25,  5353.74,  5551.23,  5748.72,  5946.21,\n",
       "         6143.7 ,  6341.19,  6538.68,  6736.17,  6933.66,  7131.15,\n",
       "         7328.64,  7526.13,  7723.62,  7921.11,  8118.6 ,  8316.09,\n",
       "         8513.58,  8711.07,  8908.56,  9106.05,  9303.54,  9501.03,\n",
       "         9698.52,  9896.01, 10093.5 , 10290.99, 10488.48, 10685.97,\n",
       "        10883.46, 11080.95, 11278.44, 11475.93, 11673.42, 11870.91,\n",
       "        12068.4 , 12265.89, 12463.38, 12660.87, 12858.36, 13055.85,\n",
       "        13253.34, 13450.83, 13648.32, 13845.81, 14043.3 , 14240.79,\n",
       "        14438.28, 14635.77, 14833.26, 15030.75, 15228.24, 15425.73,\n",
       "        15623.22, 15820.71, 16018.2 , 16215.69, 16413.18, 16610.67,\n",
       "        16808.16, 17005.65, 17203.14, 17400.63, 17598.12, 17795.61,\n",
       "        17993.1 , 18190.59, 18388.08, 18585.57, 18783.06, 18980.55,\n",
       "        19178.04, 19375.53, 19573.02, 19770.51, 19968.  ]),\n",
       " <BarContainer object of 100 artists>)"
      ]
     },
     "execution_count": 4,
     "metadata": {},
     "output_type": "execute_result"
    },
    {
     "data": {
      "image/png": "[encoded data removed]",
      "text/plain": [
       "<Figure size 640x480 with 1 Axes>"
      ]
     },
     "metadata": {},
     "output_type": "display_data"
    }
   ],
   "source": [
    "plt.hist(lengths, bins=100, edgecolor='black')"
   ]
  },
  {
   "cell_type": "code",
   "execution_count": 5,
   "id": "79647bbd-def6-4247-a54a-d864f7ff6632",
   "metadata": {},
   "outputs": [],
   "source": [
    "lengths = np.array(lengths)\n"
   ]
  },
  {
   "cell_type": "code",
   "execution_count": 6,
   "id": "b7ba5b55-aa26-46e3-a512-d55bdc0d686f",
   "metadata": {},
   "outputs": [
    {
     "data": {
      "text/plain": [
       "39936"
      ]
     },
     "execution_count": 6,
     "metadata": {},
     "output_type": "execute_result"
    }
   ],
   "source": [
    "len(lengths)"
   ]
  },
  {
   "cell_type": "code",
   "execution_count": 8,
   "id": "7d9fc759-d255-410f-b6a6-ca89f7f9a0b2",
   "metadata": {},
   "outputs": [
    {
     "data": {
      "text/plain": [
       "np.int64(999)"
      ]
     },
     "execution_count": 8,
     "metadata": {},
     "output_type": "execute_result"
    }
   ],
   "source": [
    "sum(lengths > 19000)"
   ]
  },
  {
   "cell_type": "code",
   "execution_count": 9,
   "id": "0830391e-3a7f-4edb-bda7-2b62b739c120",
   "metadata": {},
   "outputs": [
    {
     "data": {
      "text/plain": [
       "{'correctness': {'role': 'environment', 'content': 'Environment: correct'},\n",
       " 'ground_truth': {'ground_truth': '-\\\\frac{2}{3}'},\n",
       " 'response_length': 1563,\n",
       " 'original_problem': '<|begin_of_text|><|start_header_id|>system<|end_header_id|>\\n\\ndetailed thinking on<|eot_id|><|start_header_id|>user<|end_header_id|>\\n\\nThe operation $\\\\otimes$ is defined for all nonzero numbers by $a \\\\otimes b = \\\\frac{a^{2}}{b}$. Determine $[(1 \\\\otimes 2) \\\\otimes 3] - [1 \\\\otimes (2 \\\\otimes 3)]$.<|eot_id|><|start_header_id|>assistant<|end_header_id|>\\n\\n'}"
      ]
     },
     "execution_count": 9,
     "metadata": {},
     "output_type": "execute_result"
    }
   ],
   "source": [
    "lines[0]"
   ]
  },
  {
   "cell_type": "code",
   "execution_count": 10,
   "id": "34d193ce-7223-4d68-b286-c52be55c2557",
   "metadata": {},
   "outputs": [],
   "source": [
    "lengths_correct = [line[\"response_length\"] for line in lines if line['correctness']['content'] == \"Environment: correct\"]"
   ]
  },
  {
   "cell_type": "code",
   "execution_count": 11,
   "id": "503f62a5-12f0-4bec-a2c7-3dda6a2fa85a",
   "metadata": {},
   "outputs": [],
   "source": [
    "lengths_incorrect = [line[\"response_length\"] for line in lines if line['correctness']['content'] == \"Environment: incorrect\"]"
   ]
  },
  {
   "cell_type": "code",
   "execution_count": 12,
   "id": "e85ac3a9-f0b7-4761-aa54-a671af8d9877",
   "metadata": {},
   "outputs": [
    {
     "data": {
      "text/plain": [
       "(array([ 392., 3100., 3392., 2886., 2773., 2527., 2151., 1868., 1576.,\n",
       "        1282., 1157.,  949.,  762.,  633.,  506.,  491.,  406.,  350.,\n",
       "         325.,  264.,  246.,  213.,  188.,  161.,  127.,  112.,   95.,\n",
       "          64.,   63.,  130.]),\n",
       " array([  219.        ,   877.13333333,  1535.26666667,  2193.4       ,\n",
       "         2851.53333333,  3509.66666667,  4167.8       ,  4825.93333333,\n",
       "         5484.06666667,  6142.2       ,  6800.33333333,  7458.46666667,\n",
       "         8116.6       ,  8774.73333333,  9432.86666667, 10091.        ,\n",
       "        10749.13333333, 11407.26666667, 12065.4       , 12723.53333333,\n",
       "        13381.66666667, 14039.8       , 14697.93333333, 15356.06666667,\n",
       "        16014.2       , 16672.33333333, 17330.46666667, 17988.6       ,\n",
       "        18646.73333333, 19304.86666667, 19963.        ]),\n",
       " <BarContainer object of 30 artists>)"
      ]
     },
     "execution_count": 12,
     "metadata": {},
     "output_type": "execute_result"
    },
    {
     "data": {
      "image/png": "[encoded data removed]",
      "text/plain": [
       "<Figure size 640x480 with 1 Axes>"
      ]
     },
     "metadata": {},
     "output_type": "display_data"
    }
   ],
   "source": [
    "plt.hist(lengths_correct, bins=30, edgecolor='black')"
   ]
  },
  {
   "cell_type": "code",
   "execution_count": 13,
   "id": "e6b2d36b-d417-41f5-90e6-13a1e3a67a56",
   "metadata": {},
   "outputs": [
    {
     "data": {
      "text/plain": [
       "(array([ 74., 369., 508., 584., 585., 548., 542., 496., 452., 379., 418.,\n",
       "        381., 346., 276., 276., 261., 297., 264., 299., 269., 275., 249.,\n",
       "        304., 303., 316., 289., 243., 210., 165., 769.]),\n",
       " array([  299.        ,   954.63333333,  1610.26666667,  2265.9       ,\n",
       "         2921.53333333,  3577.16666667,  4232.8       ,  4888.43333333,\n",
       "         5544.06666667,  6199.7       ,  6855.33333333,  7510.96666667,\n",
       "         8166.6       ,  8822.23333333,  9477.86666667, 10133.5       ,\n",
       "        10789.13333333, 11444.76666667, 12100.4       , 12756.03333333,\n",
       "        13411.66666667, 14067.3       , 14722.93333333, 15378.56666667,\n",
       "        16034.2       , 16689.83333333, 17345.46666667, 18001.1       ,\n",
       "        18656.73333333, 19312.36666667, 19968.        ]),\n",
       " <BarContainer object of 30 artists>)"
      ]
     },
     "execution_count": 13,
     "metadata": {},
     "output_type": "execute_result"
    },
    {
     "data": {
      "image/png": "[encoded data removed]",
      "text/plain": [
       "<Figure size 640x480 with 1 Axes>"
      ]
     },
     "metadata": {},
     "output_type": "display_data"
    }
   ],
   "source": [
    "plt.hist(lengths_incorrect, bins=30, edgecolor='black')"
   ]
  },
  {
   "cell_type": "code",
   "execution_count": 24,
   "id": "826565e2-9aff-4e74-a76e-db558729786d",
   "metadata": {},
   "outputs": [],
   "source": [
    "lengths_correct_fixed = [l for l in lengths_correct if l <= 19999]\n",
    "lengths_incorrect_fixed = [l for l in lengths_incorrect if l <= 19999]\n"
   ]
  },
  {
   "cell_type": "code",
   "execution_count": 25,
   "id": "93a5227f-e602-4f02-a15d-469e67de5a44",
   "metadata": {},
   "outputs": [
    {
     "data": {
      "text/plain": [
       "5111.329507691254"
      ]
     },
     "execution_count": 25,
     "metadata": {},
     "output_type": "execute_result"
    }
   ],
   "source": [
    "sum(lengths_correct_fixed)/len(lengths_correct_fixed)"
   ]
  },
  {
   "cell_type": "code",
   "execution_count": 26,
   "id": "f0bc9097-5ec3-46df-a656-89f9bc57957c",
   "metadata": {},
   "outputs": [
    {
     "data": {
      "text/plain": [
       "9407.622964548245"
      ]
     },
     "execution_count": 26,
     "metadata": {},
     "output_type": "execute_result"
    }
   ],
   "source": [
    "sum(lengths_incorrect_fixed)/len(lengths_incorrect_fixed)"
   ]
  },
  {
   "cell_type": "code",
   "execution_count": 27,
   "id": "f4e0e1e0-f755-448e-9717-e8ce28a47525",
   "metadata": {},
   "outputs": [
    {
     "data": {
      "text/plain": [
       "1.713126113640863"
      ]
     },
     "execution_count": 27,
     "metadata": {},
     "output_type": "execute_result"
    }
   ],
   "source": [
    "8653/5051"
   ]
  },
  {
   "cell_type": "code",
   "execution_count": 28,
   "id": "0ee365e3-8de4-45e2-81b1-ca62d80df548",
   "metadata": {},
   "outputs": [
    {
     "data": {
      "text/plain": [
       "np.float64(9407.622964548245)"
      ]
     },
     "execution_count": 28,
     "metadata": {},
     "output_type": "execute_result"
    }
   ],
   "source": [
    "np.mean(lengths_incorrect)"
   ]
  },
  {
   "cell_type": "code",
   "execution_count": 29,
   "id": "0be443f6-0c47-4c13-94fa-d68d4fd72b6d",
   "metadata": {},
   "outputs": [
    {
     "data": {
      "text/plain": [
       "1.54510045100451"
      ]
     },
     "execution_count": 29,
     "metadata": {},
     "output_type": "execute_result"
    }
   ],
   "source": [
    "7537/4878\n"
   ]
  },
  {
   "cell_type": "code",
   "execution_count": 30,
   "id": "f5d2abf6-8fe8-47ad-aa84-1db38b292356",
   "metadata": {},
   "outputs": [
    {
     "data": {
      "text/plain": [
       "np.float64(5111.329507691254)"
      ]
     },
     "execution_count": 30,
     "metadata": {},
     "output_type": "execute_result"
    }
   ],
   "source": [
    "np.mean(lengths_correct)"
   ]
  },
  {
   "cell_type": "code",
   "execution_count": 31,
   "id": "566c9524-45d7-4537-8af8-981646def756",
   "metadata": {},
   "outputs": [
    {
     "data": {
      "text/plain": [
       "29189"
      ]
     },
     "execution_count": 31,
     "metadata": {},
     "output_type": "execute_result"
    }
   ],
   "source": [
    "len(lengths_correct)"
   ]
  },
  {
   "cell_type": "code",
   "execution_count": 33,
   "id": "1cb657f0-9b78-4554-b3bc-1b090418b6b6",
   "metadata": {},
   "outputs": [
    {
     "data": {
      "text/plain": [
       "1.8405400117393855"
      ]
     },
     "execution_count": 33,
     "metadata": {},
     "output_type": "execute_result"
    }
   ],
   "source": [
    "9407/5111\n"
   ]
  },
  {
   "cell_type": "code",
   "execution_count": null,
   "id": "31370eae-2827-4fbf-9f5e-5b33b1936205",
   "metadata": {},
   "outputs": [],
   "source": []
  },
  {
   "cell_type": "code",
   "execution_count": null,
   "id": "93a07a4f-de85-4f72-8981-792a468125d3",
   "metadata": {},
   "outputs": [],
   "source": []
  },
  {
   "cell_type": "code",
   "execution_count": null,
   "id": "5ef14e99-067c-4321-8760-4dbef2870c76",
   "metadata": {},
   "outputs": [],
   "source": []
  }
 ],
 "metadata": {
  "kernelspec": {
   "display_name": "Python 3 (ipykernel)",
   "language": "python",
   "name": "python3"
  },
  "language_info": {
   "codemirror_mode": {
    "name": "ipython",
    "version": 3
   },
   "file_extension": ".py",
   "mimetype": "text/x-python",
   "name": "python",
   "nbconvert_exporter": "python",
   "pygments_lexer": "ipython3",
   "version": "3.10.12"
  }
 },
 "nbformat": 4,
 "nbformat_minor": 5
}
